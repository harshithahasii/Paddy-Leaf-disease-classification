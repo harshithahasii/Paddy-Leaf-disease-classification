{
 "cells": [
  {
   "cell_type": "code",
   "execution_count": 1,
   "metadata": {},
   "outputs": [
    {
     "name": "stdout",
     "output_type": "stream",
     "text": [
      "FINAL PROJECT\n"
     ]
    }
   ],
   "source": [
    "print(\"FINAL PROJECT\")\n",
    "from tkinter import *\n",
    "from tkinter import ttk\n",
    "import tkinter.filedialog\n",
    "from PIL import ImageTk, Image\n",
    "from tkinter import PhotoImage\n",
    "import os\n",
    "import numpy as np\n",
    "import cv2\n",
    "from tensorflow import keras\n",
    "import json\n",
    "global leaf_path"
   ]
  },
  {
   "cell_type": "code",
   "execution_count": 2,
   "metadata": {},
   "outputs": [
    {
     "name": "stdout",
     "output_type": "stream",
     "text": [
      "loaded model from disk\n"
     ]
    }
   ],
   "source": [
    "with open('model_in_json.json','r') as f:\n",
    "    model_json = json.load(f)\n",
    "\n",
    "model1 = keras.models.model_from_json(model_json)\n",
    "model1.load_weights('model_weights.h5')\n",
    "print(\"loaded model from disk\")\n",
    "global filename\n",
    "\n",
    "model1.compile(loss=\"categorical_crossentropy\",optimizer=\"adam\",metrics=['accuracy'])"
   ]
  },
  {
   "cell_type": "code",
   "execution_count": 3,
   "metadata": {},
   "outputs": [],
   "source": [
    "def test1():\n",
    "    print(filename)\n",
    "    img_array_test = cv2.imread(filename, cv2.IMREAD_GRAYSCALE)\n",
    "    img_array_test=cv2.resize(img_array_test,(100,100))\n",
    "    \n",
    "    \n",
    "    X_test_img=np.array(img_array_test)/255.0\n",
    "    X_test_img = np.expand_dims(X_test_img,axis = 0)\n",
    "    X_test_img = np.expand_dims(X_test_img,axis=3)\n",
    "    \n",
    "    y_test_img1= np.array([0.0,0.0,1.0])\n",
    "    y_test_img2= np.array([0.0,1.0,0.0])\n",
    "    y_test_img3= np.array([1.0,0.0,0.0])\n",
    "    \n",
    "    y_test_img1 = np.expand_dims(y_test_img1,axis=0)\n",
    "    y_test_img2 = np.expand_dims(y_test_img2,axis=0)\n",
    "    y_test_img3 = np.expand_dims(y_test_img3,axis=0)\n",
    "\n",
    "\n",
    "    model1.compile(loss=\"categorical_crossentropy\",optimizer=\"adam\", metrics=['accuracy'])\n",
    "    result1=model1.evaluate(X_test_img,y_test_img1);\n",
    "    result2=model1.evaluate(X_test_img,y_test_img2);\n",
    "    result3=model1.evaluate(X_test_img,y_test_img3);\n",
    "\n",
    "    if(result1[1]==1):\n",
    "        return(\"Bacterial leaf blight\")\n",
    "    elif (result2[1]==1):\n",
    "        return(\"Brown spot\")\n",
    "    elif (result3[1]==1):\n",
    "        return(\"Leaf Smut\")\n",
    "    else:\n",
    "        return(\"other\")\n",
    "    \n",
    "\n",
    "\n",
    "def test():\n",
    "    \n",
    "    resultant=test1()\n",
    "    print(resultant)\n",
    "    \n",
    "    ele2=ttk.Label(root,text=\"Predicted Disease is \"+str(resultant),font=(\"Arial Bold\",12))\n",
    "    ele2.grid(padx=15,pady=4)\n",
    "    \n",
    "\n",
    "\n"
   ]
  },
  {
   "cell_type": "code",
   "execution_count": 5,
   "metadata": {},
   "outputs": [
    {
     "name": "stdout",
     "output_type": "stream",
     "text": [
      "C:/Users/bujji/Desktop/download.jfif\n",
      "1/1 [==============================] - 0s 215ms/sample - loss: 1.4736 - accuracy: 0.0000e+00\n",
      "1/1 [==============================] - 0s 13ms/sample - loss: 0.2640 - accuracy: 1.0000\n",
      "1/1 [==============================] - 0s 7ms/sample - loss: 5.8444 - accuracy: 0.0000e+00\n",
      "Brown spot\n"
     ]
    }
   ],
   "source": [
    "\n",
    "root=Tk()\n",
    "def open_img():\n",
    "    ###opening the image###\n",
    "    x=openfn()\n",
    "    img=Image.open(x)\n",
    "    img= ImageTk.PhotoImage(img)\n",
    "    panel= Label(root,image=img)\n",
    "    panel.image=img\n",
    "    panel.grid(row=2)\n",
    "\n",
    "\n",
    "\n",
    "def openfn():\n",
    "    ###opening filebrowser####\n",
    "    global filename\n",
    "    filename=tkinter.filedialog.askopenfilename(title='open')\n",
    "    leaf_path=filename\n",
    "    return filename\n",
    "\n",
    "def close_window():\n",
    "    root.destroy()\n",
    "\n",
    "\n",
    "root.title(\"Paddy Leaf Disease Classifier\")\n",
    "root.geometry(\"420x500\")\n",
    "root.iconbitmap('paddy_leaf.ico')\n",
    "root.configure(background='pink')\n",
    "tkinter.Label(root,text=\"Rice Leaf Disease Classifier\",font=(\"Arial Bold\",12)).grid(padx=20, pady=3)\n",
    "root.resizable(width=True,height=True)\n",
    "\n",
    "\n",
    "\n",
    "btn=ttk.Button(root,text=\"Upload Rice Leaf Image\",command=open_img).grid(row=1,pady=3,padx=20)\n",
    "btn1=ttk.Button(root,text=\"Predict\",command=test).grid(row=3,padx=20,pady=3)\n",
    "btn2=ttk.Button(root,text=\"Close\",command=close_window).grid(row=4,padx=20,pady=3)\n",
    "root.mainloop()"
   ]
  },
  {
   "cell_type": "code",
   "execution_count": null,
   "metadata": {},
   "outputs": [],
   "source": []
  },
  {
   "cell_type": "code",
   "execution_count": null,
   "metadata": {},
   "outputs": [],
   "source": []
  }
 ],
 "metadata": {
  "kernelspec": {
   "display_name": "Python 3",
   "language": "python",
   "name": "python3"
  },
  "language_info": {
   "codemirror_mode": {
    "name": "ipython",
    "version": 3
   },
   "file_extension": ".py",
   "mimetype": "text/x-python",
   "name": "python",
   "nbconvert_exporter": "python",
   "pygments_lexer": "ipython3",
   "version": "3.7.6"
  }
 },
 "nbformat": 4,
 "nbformat_minor": 4
}
